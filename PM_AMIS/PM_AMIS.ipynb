{
 "metadata": {
  "name": "",
  "signature": "sha256:0aba0819a0355ad51614d5498d76983209cfedef546a3e33d7b4367e51e5cfa5"
 },
 "nbformat": 3,
 "nbformat_minor": 0,
 "worksheets": [
  {
   "cells": [
    {
     "cell_type": "code",
     "collapsed": false,
     "input": [
      "# This is the code for PM_AMI"
     ],
     "language": "python",
     "metadata": {},
     "outputs": []
    }
   ],
   "metadata": {}
  }
 ]
}